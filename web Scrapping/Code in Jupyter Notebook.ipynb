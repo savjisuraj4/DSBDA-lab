{
 "cells": [
  {
   "cell_type": "code",
   "execution_count": 15,
   "id": "85fb7297",
   "metadata": {},
   "outputs": [
    {
     "name": "stdout",
     "output_type": "stream",
     "text": [
      "Best printer for home use and office... Can easily handle multiple types of printing and wifi enabled makes it more easily accessible and for privacy it also has cool featuresREAD MORE\n",
      "------\n",
      "Purchased it recently. I'll go straight to the cons : Software could be better. Not much customisation available. Hope to get better through a software update.Overall a good product. Installation was very easy through app. Quality of printing is excellent. If we put it to draft then printing speed will increase. Even draft print quality is decent. Hence if there would be an option to reduce colour intensity it would have been better to save ink and increase printing speed. Ink usage is also...READ MORE\n",
      "------\n",
      "Best Printer in low price..All in oneREAD MORE\n",
      "------\n",
      "I was very confused to buy printer which can only print wirelessly nothing else as i am a coaching institute owner. I am always in need to copy 50 sheets each day on an average. This works very fine very efficiently. Actually,  hp is my first choice to buy as it the best in printing quality.READ MORE\n",
      "------\n",
      "Nice Products❤️❤️READ MORE\n",
      "------\n",
      "Excellent Product.READ MORE\n",
      "------\n",
      "Ordered a month back, used for 10 days and it stopped working!! Pathetic product from HP, stay away from it.READ MORE\n",
      "------\n",
      "If you know how to operate then its the best product, not sure about A3 photo printing supportiveness, I will update you soon about it.READ MORE\n",
      "------\n",
      "Best in Market.Just go for it without any doubtREAD MORE\n",
      "------\n",
      "Loved it so good and premium qualityREAD MORE\n",
      "------\n"
     ]
    }
   ],
   "source": [
    "# Beautiful Soup is a Python package for parsing HTML and XML documents. \n",
    "# It creates a parse tree for parsed pages that can be used to extract data from HTML, which is useful for web scraping\n",
    "\n",
    "\n",
    "# An HTTP header is a field of an HTTP request or response that passes additional context and \n",
    "# metadata about the request or response\n",
    "\n",
    "import requests\n",
    "from bs4 import BeautifulSoup\n",
    "\n",
    "headers={\n",
    "        'User-Agent': 'Mozilla/5.0 (Windows NT 10.0; Win64; x64) AppleWebKit/537.36 (KHTML, like Gecko) '+\n",
    "        'Chrome/88.0.4324.182 Safari/537.36'\n",
    "}\n",
    "\n",
    "url=\"https://www.flipkart.com/hp-smart-tank-all-one-589-multi-function-wifi-color-inkjet-printer/p/itma1449e7e7cc32?pid=PRNGKZB6NY9YMRJN&lid=LSTPRNGKZB6NY9YMRJNZVXMPX&marketplace=FLIPKART&store=6bo%2Ftia%2Fffn%2Ft64&srno=b_1_1&otracker=hp_omu_Best%2Bof%2BElectronics_3_3.dealCard.OMU_D54DFY00C5JD_3&otracker1=hp_rich_navigation_PINNED_neo%2Fmerchandising_NA_NAV_EXPANDABLE_navigationCard_cc_2_L2_view-all%2Chp_omu_PINNED_neo%2Fmerchandising_Best%2Bof%2BElectronics_NA_dealCard_cc_3_NA_view-all_3&fm=neo%2Fmerchandising&iid=en_iFXc3xhNmrXU%2F9SwTABbe113R0hpbjIRJL8Rwa8Y%2BdHRRnAwOKujO0Jwlty2hFWEdbMRI472rZEJM4XoWZWfuQ%3D%3D&ppt=browse&ppn=browse&ssid=kime6iy7s00000001684960536743\"\n",
    "\n",
    "def get_reviews(url):\n",
    "    reviews=[]\n",
    "    response=requests.get(url,headers=headers)\n",
    "    soap=BeautifulSoup(response.content,'html.parser')\n",
    "    review_containers=soap.find_all('div',{'class': '_1AtVbE'})\n",
    "    \n",
    "    for containers in review_containers:\n",
    "        divs=containers.findAll('div',{'class':'t-ZTKy'})\n",
    "        if(divs):\n",
    "            for div in divs:\n",
    "                reviews.append(div.text)\n",
    "    return reviews  \n",
    "\n",
    "reviews=get_reviews(url)  \n",
    "for review in reviews:\n",
    "    print(review)\n",
    "    print('------')\n"
   ]
  },
  {
   "cell_type": "code",
   "execution_count": null,
   "id": "992610de",
   "metadata": {},
   "outputs": [],
   "source": []
  }
 ],
 "metadata": {
  "kernelspec": {
   "display_name": "Python 3 (ipykernel)",
   "language": "python",
   "name": "python3"
  },
  "language_info": {
   "codemirror_mode": {
    "name": "ipython",
    "version": 3
   },
   "file_extension": ".py",
   "mimetype": "text/x-python",
   "name": "python",
   "nbconvert_exporter": "python",
   "pygments_lexer": "ipython3",
   "version": "3.11.2"
  }
 },
 "nbformat": 4,
 "nbformat_minor": 5
}
